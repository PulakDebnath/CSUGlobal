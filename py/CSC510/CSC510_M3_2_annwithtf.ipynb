{
  "nbformat": 4,
  "nbformat_minor": 0,
  "metadata": {
    "colab": {
      "name": "CSC510-M3.2-annwithtf.ipynb",
      "provenance": [],
      "collapsed_sections": []
    },
    "kernelspec": {
      "name": "python3",
      "display_name": "Python 3"
    },
    "language_info": {
      "name": "python"
    }
  },
  "cells": [
    {
      "cell_type": "markdown",
      "metadata": {
        "id": "mbNkfgMnuX2b"
      },
      "source": [
        "# TensorFlow ANN Model\n",
        "\n",
        "---\n",
        "\n",
        "\n",
        "\n",
        "Pulak Debnath (Colorado State University Global)\n",
        "\n",
        "CSC510: Foundations of Artificial Intelligence\n",
        "\n",
        "Instructor: Dr. L. J. Awuah\n",
        "\n",
        "# Due Date: 06/27/2021"
      ]
    },
    {
      "cell_type": "markdown",
      "metadata": {
        "id": "N7-KZ0Xduabn"
      },
      "source": [
        "In this exercise, an is made to build a predictive machine learning model with multi-layer Artificial Neural Network (ANN) algorithm using TensorFlow 2.0 framework.\n",
        "\n",
        "### Usecase:\n",
        "Using the Iris Flowers dataset, build a multi-class classification model to predict the pecies of the flower, given the measures of the flower. "
      ]
    },
    {
      "cell_type": "markdown",
      "metadata": {
        "id": "k7dxj_Vs_ZtW"
      },
      "source": [
        "### STEP 1: Data Preperation\n",
        "I have mounted a driver on colab and mapped to the google drive, where I have uploaded the iris.csv dataset. The dataset is loaded into the session using Pandas library. Next, the data is prepared where, input and output variables are separated, as well as the string (class) data is converted to integers."
      ]
    },
    {
      "cell_type": "code",
      "metadata": {
        "colab": {
          "base_uri": "https://localhost:8080/",
          "height": 204
        },
        "id": "6SvSDglMwdQl",
        "outputId": "54ec9c6a-761a-497d-8f48-c05a8a96e0d4"
      },
      "source": [
        "import numpy as np\n",
        "import pandas as pd\n",
        "from sklearn.model_selection import train_test_split\n",
        "from sklearn.preprocessing import LabelEncoder\n",
        "import tensorflow as tf\n",
        "from tensorflow.keras.layers import Dense\n",
        "\n",
        "# load the dataset\n",
        "path = '/content/drive/MyDrive/Colab Notebooks/Data/iris.csv' \n",
        "df = pd.read_csv(path, header=None)\n",
        "\n",
        "df.head()\n"
      ],
      "execution_count": 18,
      "outputs": [
        {
          "output_type": "execute_result",
          "data": {
            "text/html": [
              "<div>\n",
              "<style scoped>\n",
              "    .dataframe tbody tr th:only-of-type {\n",
              "        vertical-align: middle;\n",
              "    }\n",
              "\n",
              "    .dataframe tbody tr th {\n",
              "        vertical-align: top;\n",
              "    }\n",
              "\n",
              "    .dataframe thead th {\n",
              "        text-align: right;\n",
              "    }\n",
              "</style>\n",
              "<table border=\"1\" class=\"dataframe\">\n",
              "  <thead>\n",
              "    <tr style=\"text-align: right;\">\n",
              "      <th></th>\n",
              "      <th>0</th>\n",
              "      <th>1</th>\n",
              "      <th>2</th>\n",
              "      <th>3</th>\n",
              "      <th>4</th>\n",
              "    </tr>\n",
              "  </thead>\n",
              "  <tbody>\n",
              "    <tr>\n",
              "      <th>0</th>\n",
              "      <td>5.1</td>\n",
              "      <td>3.5</td>\n",
              "      <td>1.4</td>\n",
              "      <td>0.2</td>\n",
              "      <td>Iris-setosa</td>\n",
              "    </tr>\n",
              "    <tr>\n",
              "      <th>1</th>\n",
              "      <td>4.9</td>\n",
              "      <td>3.0</td>\n",
              "      <td>1.4</td>\n",
              "      <td>0.2</td>\n",
              "      <td>Iris-setosa</td>\n",
              "    </tr>\n",
              "    <tr>\n",
              "      <th>2</th>\n",
              "      <td>4.7</td>\n",
              "      <td>3.2</td>\n",
              "      <td>1.3</td>\n",
              "      <td>0.2</td>\n",
              "      <td>Iris-setosa</td>\n",
              "    </tr>\n",
              "    <tr>\n",
              "      <th>3</th>\n",
              "      <td>4.6</td>\n",
              "      <td>3.1</td>\n",
              "      <td>1.5</td>\n",
              "      <td>0.2</td>\n",
              "      <td>Iris-setosa</td>\n",
              "    </tr>\n",
              "    <tr>\n",
              "      <th>4</th>\n",
              "      <td>5.0</td>\n",
              "      <td>3.6</td>\n",
              "      <td>1.4</td>\n",
              "      <td>0.2</td>\n",
              "      <td>Iris-setosa</td>\n",
              "    </tr>\n",
              "  </tbody>\n",
              "</table>\n",
              "</div>"
            ],
            "text/plain": [
              "     0    1    2    3            4\n",
              "0  5.1  3.5  1.4  0.2  Iris-setosa\n",
              "1  4.9  3.0  1.4  0.2  Iris-setosa\n",
              "2  4.7  3.2  1.3  0.2  Iris-setosa\n",
              "3  4.6  3.1  1.5  0.2  Iris-setosa\n",
              "4  5.0  3.6  1.4  0.2  Iris-setosa"
            ]
          },
          "metadata": {
            "tags": []
          },
          "execution_count": 18
        }
      ]
    },
    {
      "cell_type": "code",
      "metadata": {
        "colab": {
          "base_uri": "https://localhost:8080/"
        },
        "id": "jpiiXXTHAfd8",
        "outputId": "20384767-b568-474e-d481-1e7887ad5f04"
      },
      "source": [
        "# X=input (all, but the last column), y=output (last column)\n",
        "X, y = df.values[:, :-1], df.values[:, -1]\n",
        "\n",
        "# convert all input to float\n",
        "X = X.astype('float32')\n",
        "print('X: ', X[:5,:])\n",
        "# convert all string variable to integer (class variable in output matrix)\n",
        "y = LabelEncoder().fit_transform(y)\n",
        "print('y: ', y[:5])"
      ],
      "execution_count": 14,
      "outputs": [
        {
          "output_type": "stream",
          "text": [
            "X:  [[5.1 3.5 1.4 0.2]\n",
            " [4.9 3.  1.4 0.2]\n",
            " [4.7 3.2 1.3 0.2]\n",
            " [4.6 3.1 1.5 0.2]\n",
            " [5.  3.6 1.4 0.2]]\n",
            "y:  [0 0 0 0 0]\n"
          ],
          "name": "stdout"
        }
      ]
    },
    {
      "cell_type": "markdown",
      "metadata": {
        "id": "Q4LNcO6R_SE0"
      },
      "source": [
        "### STEP 2: Training and Test set\n",
        "Now split the data into training (70%) and test (30%) set "
      ]
    },
    {
      "cell_type": "code",
      "metadata": {
        "colab": {
          "base_uri": "https://localhost:8080/"
        },
        "id": "qu8VXyCs_Okc",
        "outputId": "8182896e-a781-4038-c801-4f7ff3f4ff7e"
      },
      "source": [
        "X_train, X_test, y_train, y_test = train_test_split(X, y, test_size=0.30)\n",
        "\n",
        "print(X_train.shape, X_test.shape, y_train.shape, y_test.shape)"
      ],
      "execution_count": 15,
      "outputs": [
        {
          "output_type": "stream",
          "text": [
            "(105, 4) (45, 4) (105,) (45,)\n"
          ],
          "name": "stdout"
        }
      ]
    },
    {
      "cell_type": "markdown",
      "metadata": {
        "id": "XwLSSCX6DWiT"
      },
      "source": [
        "#### STEP 3: Define ANN Model features\n",
        "There are 4 input features.\n",
        "A tensorflow.sequencial() method is used to stack the layers.\n",
        "Here, two hidden layers were added, where the 1st hidden layer is defined with 10 features, and the 2nd hidden layer is defined with 8 features. The output layers is needed 3 features to classify the three iris flowers."
      ]
    },
    {
      "cell_type": "code",
      "metadata": {
        "colab": {
          "base_uri": "https://localhost:8080/"
        },
        "id": "bFNGj5oODg1H",
        "outputId": "1dc040bf-ca8c-45f5-e2c1-d279fee510ea"
      },
      "source": [
        "in_features = X_train.shape[1]\n",
        "print(in_features)\n",
        "\n",
        "# define model\n",
        "model = tf.keras.Sequential()\n",
        "model.add(Dense(10, activation='relu', input_shape=(in_features,)))\n",
        "model.add(Dense(7, activation='relu'))\n",
        "model.add(Dense(3, activation='softmax'))\n",
        "\n",
        "# compile the model\n",
        "model.compile(optimizer='adam', \n",
        "              loss='sparse_categorical_crossentropy', \n",
        "              metrics=['accuracy'])\n"
      ],
      "execution_count": 20,
      "outputs": [
        {
          "output_type": "stream",
          "text": [
            "4\n"
          ],
          "name": "stdout"
        }
      ]
    },
    {
      "cell_type": "markdown",
      "metadata": {
        "id": "cbwOjIr1IR4g"
      },
      "source": [
        "### STEP 4: Train the model\n",
        "To train the model, 100 epochs are selected with botch size of 25 each. \n"
      ]
    },
    {
      "cell_type": "code",
      "metadata": {
        "colab": {
          "base_uri": "https://localhost:8080/"
        },
        "id": "4-pf7KIGIy2U",
        "outputId": "87e50098-64c8-4ac7-ce93-57c602679569"
      },
      "source": [
        "# fit the model\n",
        "model.fit(X_train, y_train, epochs=100, batch_size=25)\n",
        "\n",
        "# evaluate the model \n",
        "loss, accuracy = model.evaluate(X_test, y_test)\n",
        "print('Test accuracy: %.3f' %accuracy)"
      ],
      "execution_count": 23,
      "outputs": [
        {
          "output_type": "stream",
          "text": [
            "Epoch 1/100\n",
            "5/5 [==============================] - 0s 4ms/step - loss: 0.6446 - accuracy: 0.6762\n",
            "Epoch 2/100\n",
            "5/5 [==============================] - 0s 4ms/step - loss: 0.6396 - accuracy: 0.6952\n",
            "Epoch 3/100\n",
            "5/5 [==============================] - 0s 3ms/step - loss: 0.6353 - accuracy: 0.6762\n",
            "Epoch 4/100\n",
            "5/5 [==============================] - 0s 4ms/step - loss: 0.6308 - accuracy: 0.6762\n",
            "Epoch 5/100\n",
            "5/5 [==============================] - 0s 4ms/step - loss: 0.6261 - accuracy: 0.6762\n",
            "Epoch 6/100\n",
            "5/5 [==============================] - 0s 3ms/step - loss: 0.6213 - accuracy: 0.6762\n",
            "Epoch 7/100\n",
            "5/5 [==============================] - 0s 3ms/step - loss: 0.6175 - accuracy: 0.6857\n",
            "Epoch 8/100\n",
            "5/5 [==============================] - 0s 3ms/step - loss: 0.6135 - accuracy: 0.6857\n",
            "Epoch 9/100\n",
            "5/5 [==============================] - 0s 4ms/step - loss: 0.6079 - accuracy: 0.6952\n",
            "Epoch 10/100\n",
            "5/5 [==============================] - 0s 4ms/step - loss: 0.6042 - accuracy: 0.7810\n",
            "Epoch 11/100\n",
            "5/5 [==============================] - 0s 4ms/step - loss: 0.5998 - accuracy: 0.8000\n",
            "Epoch 12/100\n",
            "5/5 [==============================] - 0s 3ms/step - loss: 0.5948 - accuracy: 0.7905\n",
            "Epoch 13/100\n",
            "5/5 [==============================] - 0s 3ms/step - loss: 0.5911 - accuracy: 0.7905\n",
            "Epoch 14/100\n",
            "5/5 [==============================] - 0s 2ms/step - loss: 0.5864 - accuracy: 0.7905\n",
            "Epoch 15/100\n",
            "5/5 [==============================] - 0s 3ms/step - loss: 0.5822 - accuracy: 0.8000\n",
            "Epoch 16/100\n",
            "5/5 [==============================] - 0s 4ms/step - loss: 0.5784 - accuracy: 0.7714\n",
            "Epoch 17/100\n",
            "5/5 [==============================] - 0s 3ms/step - loss: 0.5742 - accuracy: 0.7714\n",
            "Epoch 18/100\n",
            "5/5 [==============================] - 0s 4ms/step - loss: 0.5699 - accuracy: 0.7714\n",
            "Epoch 19/100\n",
            "5/5 [==============================] - 0s 3ms/step - loss: 0.5658 - accuracy: 0.8095\n",
            "Epoch 20/100\n",
            "5/5 [==============================] - 0s 4ms/step - loss: 0.5619 - accuracy: 0.8476\n",
            "Epoch 21/100\n",
            "5/5 [==============================] - 0s 4ms/step - loss: 0.5589 - accuracy: 0.8476\n",
            "Epoch 22/100\n",
            "5/5 [==============================] - 0s 3ms/step - loss: 0.5543 - accuracy: 0.8476\n",
            "Epoch 23/100\n",
            "5/5 [==============================] - 0s 3ms/step - loss: 0.5513 - accuracy: 0.8286\n",
            "Epoch 24/100\n",
            "5/5 [==============================] - 0s 3ms/step - loss: 0.5472 - accuracy: 0.8381\n",
            "Epoch 25/100\n",
            "5/5 [==============================] - 0s 4ms/step - loss: 0.5429 - accuracy: 0.8381\n",
            "Epoch 26/100\n",
            "5/5 [==============================] - 0s 4ms/step - loss: 0.5386 - accuracy: 0.8286\n",
            "Epoch 27/100\n",
            "5/5 [==============================] - 0s 3ms/step - loss: 0.5351 - accuracy: 0.8000\n",
            "Epoch 28/100\n",
            "5/5 [==============================] - 0s 3ms/step - loss: 0.5312 - accuracy: 0.8095\n",
            "Epoch 29/100\n",
            "5/5 [==============================] - 0s 3ms/step - loss: 0.5278 - accuracy: 0.8000\n",
            "Epoch 30/100\n",
            "5/5 [==============================] - 0s 3ms/step - loss: 0.5246 - accuracy: 0.8000\n",
            "Epoch 31/100\n",
            "5/5 [==============================] - 0s 3ms/step - loss: 0.5201 - accuracy: 0.8095\n",
            "Epoch 32/100\n",
            "5/5 [==============================] - 0s 3ms/step - loss: 0.5159 - accuracy: 0.8381\n",
            "Epoch 33/100\n",
            "5/5 [==============================] - 0s 3ms/step - loss: 0.5115 - accuracy: 0.8476\n",
            "Epoch 34/100\n",
            "5/5 [==============================] - 0s 4ms/step - loss: 0.5086 - accuracy: 0.8667\n",
            "Epoch 35/100\n",
            "5/5 [==============================] - 0s 5ms/step - loss: 0.5046 - accuracy: 0.8667\n",
            "Epoch 36/100\n",
            "5/5 [==============================] - 0s 3ms/step - loss: 0.5017 - accuracy: 0.8476\n",
            "Epoch 37/100\n",
            "5/5 [==============================] - 0s 3ms/step - loss: 0.4974 - accuracy: 0.8476\n",
            "Epoch 38/100\n",
            "5/5 [==============================] - 0s 4ms/step - loss: 0.4933 - accuracy: 0.8476\n",
            "Epoch 39/100\n",
            "5/5 [==============================] - 0s 5ms/step - loss: 0.4907 - accuracy: 0.8381\n",
            "Epoch 40/100\n",
            "5/5 [==============================] - 0s 4ms/step - loss: 0.4881 - accuracy: 0.8381\n",
            "Epoch 41/100\n",
            "5/5 [==============================] - 0s 4ms/step - loss: 0.4832 - accuracy: 0.8476\n",
            "Epoch 42/100\n",
            "5/5 [==============================] - 0s 5ms/step - loss: 0.4785 - accuracy: 0.8667\n",
            "Epoch 43/100\n",
            "5/5 [==============================] - 0s 3ms/step - loss: 0.4757 - accuracy: 0.8762\n",
            "Epoch 44/100\n",
            "5/5 [==============================] - 0s 3ms/step - loss: 0.4735 - accuracy: 0.9238\n",
            "Epoch 45/100\n",
            "5/5 [==============================] - 0s 3ms/step - loss: 0.4700 - accuracy: 0.8762\n",
            "Epoch 46/100\n",
            "5/5 [==============================] - 0s 3ms/step - loss: 0.4661 - accuracy: 0.8667\n",
            "Epoch 47/100\n",
            "5/5 [==============================] - 0s 3ms/step - loss: 0.4629 - accuracy: 0.8667\n",
            "Epoch 48/100\n",
            "5/5 [==============================] - 0s 3ms/step - loss: 0.4598 - accuracy: 0.8762\n",
            "Epoch 49/100\n",
            "5/5 [==============================] - 0s 4ms/step - loss: 0.4567 - accuracy: 0.8762\n",
            "Epoch 50/100\n",
            "5/5 [==============================] - 0s 3ms/step - loss: 0.4534 - accuracy: 0.8667\n",
            "Epoch 51/100\n",
            "5/5 [==============================] - 0s 6ms/step - loss: 0.4511 - accuracy: 0.8667\n",
            "Epoch 52/100\n",
            "5/5 [==============================] - 0s 4ms/step - loss: 0.4471 - accuracy: 0.8762\n",
            "Epoch 53/100\n",
            "5/5 [==============================] - 0s 3ms/step - loss: 0.4445 - accuracy: 0.8762\n",
            "Epoch 54/100\n",
            "5/5 [==============================] - 0s 3ms/step - loss: 0.4409 - accuracy: 0.8762\n",
            "Epoch 55/100\n",
            "5/5 [==============================] - 0s 3ms/step - loss: 0.4379 - accuracy: 0.9048\n",
            "Epoch 56/100\n",
            "5/5 [==============================] - 0s 3ms/step - loss: 0.4351 - accuracy: 0.8952\n",
            "Epoch 57/100\n",
            "5/5 [==============================] - 0s 3ms/step - loss: 0.4323 - accuracy: 0.9048\n",
            "Epoch 58/100\n",
            "5/5 [==============================] - 0s 3ms/step - loss: 0.4297 - accuracy: 0.9238\n",
            "Epoch 59/100\n",
            "5/5 [==============================] - 0s 2ms/step - loss: 0.4266 - accuracy: 0.9238\n",
            "Epoch 60/100\n",
            "5/5 [==============================] - 0s 2ms/step - loss: 0.4242 - accuracy: 0.9048\n",
            "Epoch 61/100\n",
            "5/5 [==============================] - 0s 3ms/step - loss: 0.4217 - accuracy: 0.8667\n",
            "Epoch 62/100\n",
            "5/5 [==============================] - 0s 4ms/step - loss: 0.4181 - accuracy: 0.9048\n",
            "Epoch 63/100\n",
            "5/5 [==============================] - 0s 4ms/step - loss: 0.4163 - accuracy: 0.9238\n",
            "Epoch 64/100\n",
            "5/5 [==============================] - 0s 3ms/step - loss: 0.4126 - accuracy: 0.9238\n",
            "Epoch 65/100\n",
            "5/5 [==============================] - 0s 3ms/step - loss: 0.4094 - accuracy: 0.9238\n",
            "Epoch 66/100\n",
            "5/5 [==============================] - 0s 3ms/step - loss: 0.4062 - accuracy: 0.9238\n",
            "Epoch 67/100\n",
            "5/5 [==============================] - 0s 6ms/step - loss: 0.4035 - accuracy: 0.9238\n",
            "Epoch 68/100\n",
            "5/5 [==============================] - 0s 4ms/step - loss: 0.4010 - accuracy: 0.9238\n",
            "Epoch 69/100\n",
            "5/5 [==============================] - 0s 4ms/step - loss: 0.3996 - accuracy: 0.9238\n",
            "Epoch 70/100\n",
            "5/5 [==============================] - 0s 4ms/step - loss: 0.3962 - accuracy: 0.9333\n",
            "Epoch 71/100\n",
            "5/5 [==============================] - 0s 3ms/step - loss: 0.3950 - accuracy: 0.9429\n",
            "Epoch 72/100\n",
            "5/5 [==============================] - 0s 3ms/step - loss: 0.3916 - accuracy: 0.9429\n",
            "Epoch 73/100\n",
            "5/5 [==============================] - 0s 4ms/step - loss: 0.3893 - accuracy: 0.9238\n",
            "Epoch 74/100\n",
            "5/5 [==============================] - 0s 3ms/step - loss: 0.3861 - accuracy: 0.9238\n",
            "Epoch 75/100\n",
            "5/5 [==============================] - 0s 3ms/step - loss: 0.3831 - accuracy: 0.9238\n",
            "Epoch 76/100\n",
            "5/5 [==============================] - 0s 3ms/step - loss: 0.3806 - accuracy: 0.9238\n",
            "Epoch 77/100\n",
            "5/5 [==============================] - 0s 4ms/step - loss: 0.3782 - accuracy: 0.9238\n",
            "Epoch 78/100\n",
            "5/5 [==============================] - 0s 5ms/step - loss: 0.3759 - accuracy: 0.9238\n",
            "Epoch 79/100\n",
            "5/5 [==============================] - 0s 3ms/step - loss: 0.3735 - accuracy: 0.9238\n",
            "Epoch 80/100\n",
            "5/5 [==============================] - 0s 4ms/step - loss: 0.3726 - accuracy: 0.9333\n",
            "Epoch 81/100\n",
            "5/5 [==============================] - 0s 4ms/step - loss: 0.3696 - accuracy: 0.9429\n",
            "Epoch 82/100\n",
            "5/5 [==============================] - 0s 5ms/step - loss: 0.3661 - accuracy: 0.9429\n",
            "Epoch 83/100\n",
            "5/5 [==============================] - 0s 3ms/step - loss: 0.3641 - accuracy: 0.9238\n",
            "Epoch 84/100\n",
            "5/5 [==============================] - 0s 3ms/step - loss: 0.3623 - accuracy: 0.9238\n",
            "Epoch 85/100\n",
            "5/5 [==============================] - 0s 3ms/step - loss: 0.3602 - accuracy: 0.9238\n",
            "Epoch 86/100\n",
            "5/5 [==============================] - 0s 3ms/step - loss: 0.3583 - accuracy: 0.9238\n",
            "Epoch 87/100\n",
            "5/5 [==============================] - 0s 3ms/step - loss: 0.3572 - accuracy: 0.9238\n",
            "Epoch 88/100\n",
            "5/5 [==============================] - 0s 3ms/step - loss: 0.3526 - accuracy: 0.9238\n",
            "Epoch 89/100\n",
            "5/5 [==============================] - 0s 3ms/step - loss: 0.3535 - accuracy: 0.9524\n",
            "Epoch 90/100\n",
            "5/5 [==============================] - 0s 4ms/step - loss: 0.3546 - accuracy: 0.9524\n",
            "Epoch 91/100\n",
            "5/5 [==============================] - 0s 4ms/step - loss: 0.3519 - accuracy: 0.9524\n",
            "Epoch 92/100\n",
            "5/5 [==============================] - 0s 4ms/step - loss: 0.3470 - accuracy: 0.9524\n",
            "Epoch 93/100\n",
            "5/5 [==============================] - 0s 3ms/step - loss: 0.3424 - accuracy: 0.9524\n",
            "Epoch 94/100\n",
            "5/5 [==============================] - 0s 3ms/step - loss: 0.3401 - accuracy: 0.9429\n",
            "Epoch 95/100\n",
            "5/5 [==============================] - 0s 3ms/step - loss: 0.3395 - accuracy: 0.9238\n",
            "Epoch 96/100\n",
            "5/5 [==============================] - 0s 4ms/step - loss: 0.3356 - accuracy: 0.9333\n",
            "Epoch 97/100\n",
            "5/5 [==============================] - 0s 3ms/step - loss: 0.3348 - accuracy: 0.9524\n",
            "Epoch 98/100\n",
            "5/5 [==============================] - 0s 4ms/step - loss: 0.3318 - accuracy: 0.9524\n",
            "Epoch 99/100\n",
            "5/5 [==============================] - 0s 4ms/step - loss: 0.3300 - accuracy: 0.9333\n",
            "Epoch 100/100\n",
            "5/5 [==============================] - 0s 3ms/step - loss: 0.3286 - accuracy: 0.9238\n",
            "2/2 [==============================] - 0s 7ms/step - loss: 0.3723 - accuracy: 0.8667\n",
            "Test accuracy: 0.867\n"
          ],
          "name": "stdout"
        }
      ]
    },
    {
      "cell_type": "markdown",
      "metadata": {
        "id": "lyyFuJfFKGiS"
      },
      "source": [
        "### Model Evaluation\n",
        "After 100 epochs, it can be observed that the loss function is tend to decrease and accuracy is tend to increase. It is possible to increase the epoches and determine the threshold where the model performance detoriates, or start overfitting. "
      ]
    },
    {
      "cell_type": "code",
      "metadata": {
        "colab": {
          "base_uri": "https://localhost:8080/"
        },
        "id": "0b-0uwJMLRiX",
        "outputId": "50a4e3a3-13db-455d-dd07-0d551c2351fd"
      },
      "source": [
        "# make a prediction [Row#80]\n",
        "row = [5.7,2.6,3.5,1.0]\n",
        "yhat = model.predict([row])\n",
        "print('Predicted: %s (class=%d)' % (yhat, np.argmax(yhat)))\n"
      ],
      "execution_count": 29,
      "outputs": [
        {
          "output_type": "stream",
          "text": [
            "Predicted: [[0.05384957 0.91866195 0.02748858]] (class=1)\n"
          ],
          "name": "stdout"
        }
      ]
    }
  ]
}